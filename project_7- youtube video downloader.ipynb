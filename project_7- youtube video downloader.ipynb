{
 "cells": [
  {
   "cell_type": "code",
   "execution_count": 1,
   "id": "ba3ab61b-3d31-4aac-bf4e-baf9bd8ebb0e",
   "metadata": {},
   "outputs": [
    {
     "name": "stdout",
     "output_type": "stream",
     "text": [
      "Requirement already satisfied: pytube3 in c:\\users\\mypc\\anaconda3\\lib\\site-packages (9.6.4)Note: you may need to restart the kernel to use updated packages.\n",
      "\n",
      "Requirement already satisfied: typing-extensions in c:\\users\\mypc\\anaconda3\\lib\\site-packages (from pytube3) (4.11.0)\n"
     ]
    }
   ],
   "source": [
    "pip install pytube3\n"
   ]
  },
  {
   "cell_type": "code",
   "execution_count": 2,
   "id": "f37af5ad-6010-4913-b43e-addb4f928390",
   "metadata": {},
   "outputs": [
    {
     "name": "stdout",
     "output_type": "stream",
     "text": [
      "Requirement already satisfied: pytube in c:\\users\\mypc\\anaconda3\\lib\\site-packages (15.0.0)\n",
      "Note: you may need to restart the kernel to use updated packages.\n"
     ]
    }
   ],
   "source": [
    "pip install --upgrade pytube"
   ]
  },
  {
   "cell_type": "code",
   "execution_count": 3,
   "id": "fedb89f4-a1cf-445a-8af9-e361ce5ba160",
   "metadata": {},
   "outputs": [
    {
     "ename": "ImportError",
     "evalue": "cannot import name 'youtube' from 'pytube' (C:\\Users\\mypc\\anaconda3\\Lib\\site-packages\\pytube\\__init__.py)",
     "output_type": "error",
     "traceback": [
      "\u001b[1;31m---------------------------------------------------------------------------\u001b[0m",
      "\u001b[1;31mImportError\u001b[0m                               Traceback (most recent call last)",
      "Cell \u001b[1;32mIn[3], line 1\u001b[0m\n\u001b[1;32m----> 1\u001b[0m \u001b[38;5;28;01mfrom\u001b[39;00m \u001b[38;5;21;01mpytube\u001b[39;00m \u001b[38;5;28;01mimport\u001b[39;00m youtube\n",
      "\u001b[1;31mImportError\u001b[0m: cannot import name 'youtube' from 'pytube' (C:\\Users\\mypc\\anaconda3\\Lib\\site-packages\\pytube\\__init__.py)"
     ]
    }
   ],
   "source": [
    "from pytube import youtube"
   ]
  },
  {
   "cell_type": "code",
   "execution_count": 4,
   "id": "e183d88f-3d72-4dd9-803f-f5ebba1ae1af",
   "metadata": {},
   "outputs": [],
   "source": [
    "from pytube import YouTube"
   ]
  },
  {
   "cell_type": "code",
   "execution_count": 6,
   "id": "301ce863-c06e-4d4f-945b-356dc9faf4ae",
   "metadata": {},
   "outputs": [
    {
     "name": "stdout",
     "output_type": "stream",
     "text": [
      "Requirement already satisfied: yt-dlp in c:\\users\\mypc\\anaconda3\\lib\\site-packages (2025.1.26)\n",
      "Note: you may need to restart the kernel to use updated packages.\n"
     ]
    }
   ],
   "source": [
    "pip install yt-dlp"
   ]
  },
  {
   "cell_type": "code",
   "execution_count": 10,
   "id": "ddaaf8be-c106-46d2-b83b-e510c14071bf",
   "metadata": {},
   "outputs": [
    {
     "name": "stdin",
     "output_type": "stream",
     "text": [
      "enter youtube video https://www.youtube.com/watch?v=TEl7lZFKBSA&t=52s\n"
     ]
    }
   ],
   "source": [
    "link=input(\"enter youtube video\")\n",
    "yt=YouTube(link)"
   ]
  },
  {
   "cell_type": "code",
   "execution_count": 14,
   "id": "cc1da044-f2b3-4a12-a64a-060a99798c1a",
   "metadata": {},
   "outputs": [
    {
     "ename": "PytubeError",
     "evalue": "Exception while accessing title of https://youtube.com/watch?v=TEl7lZFKBSA. Please file a bug report at https://github.com/pytube/pytube",
     "output_type": "error",
     "traceback": [
      "\u001b[1;31m---------------------------------------------------------------------------\u001b[0m",
      "\u001b[1;31mKeyError\u001b[0m                                  Traceback (most recent call last)",
      "File \u001b[1;32m~\\anaconda3\\Lib\\site-packages\\pytube\\__main__.py:341\u001b[0m, in \u001b[0;36mYouTube.title\u001b[1;34m(self)\u001b[0m\n\u001b[0;32m    340\u001b[0m \u001b[38;5;28;01mtry\u001b[39;00m:\n\u001b[1;32m--> 341\u001b[0m     \u001b[38;5;28mself\u001b[39m\u001b[38;5;241m.\u001b[39m_title \u001b[38;5;241m=\u001b[39m \u001b[38;5;28mself\u001b[39m\u001b[38;5;241m.\u001b[39mvid_info[\u001b[38;5;124m'\u001b[39m\u001b[38;5;124mvideoDetails\u001b[39m\u001b[38;5;124m'\u001b[39m][\u001b[38;5;124m'\u001b[39m\u001b[38;5;124mtitle\u001b[39m\u001b[38;5;124m'\u001b[39m]\n\u001b[0;32m    342\u001b[0m \u001b[38;5;28;01mexcept\u001b[39;00m \u001b[38;5;167;01mKeyError\u001b[39;00m:\n\u001b[0;32m    343\u001b[0m     \u001b[38;5;66;03m# Check_availability will raise the correct exception in most cases\u001b[39;00m\n\u001b[0;32m    344\u001b[0m     \u001b[38;5;66;03m#  if it doesn't, ask for a report.\u001b[39;00m\n",
      "\u001b[1;31mKeyError\u001b[0m: 'videoDetails'",
      "\nDuring handling of the above exception, another exception occurred:\n",
      "\u001b[1;31mPytubeError\u001b[0m                               Traceback (most recent call last)",
      "Cell \u001b[1;32mIn[14], line 2\u001b[0m\n\u001b[0;32m      1\u001b[0m \u001b[38;5;66;03m#To print title\u001b[39;00m\n\u001b[1;32m----> 2\u001b[0m \u001b[38;5;28mprint\u001b[39m(\u001b[38;5;124m\"\u001b[39m\u001b[38;5;124mTitle:\u001b[39m\u001b[38;5;124m\"\u001b[39m, yt\u001b[38;5;241m.\u001b[39mtitle)\n",
      "File \u001b[1;32m~\\anaconda3\\Lib\\site-packages\\pytube\\__main__.py:346\u001b[0m, in \u001b[0;36mYouTube.title\u001b[1;34m(self)\u001b[0m\n\u001b[0;32m    342\u001b[0m \u001b[38;5;28;01mexcept\u001b[39;00m \u001b[38;5;167;01mKeyError\u001b[39;00m:\n\u001b[0;32m    343\u001b[0m     \u001b[38;5;66;03m# Check_availability will raise the correct exception in most cases\u001b[39;00m\n\u001b[0;32m    344\u001b[0m     \u001b[38;5;66;03m#  if it doesn't, ask for a report.\u001b[39;00m\n\u001b[0;32m    345\u001b[0m     \u001b[38;5;28mself\u001b[39m\u001b[38;5;241m.\u001b[39mcheck_availability()\n\u001b[1;32m--> 346\u001b[0m     \u001b[38;5;28;01mraise\u001b[39;00m exceptions\u001b[38;5;241m.\u001b[39mPytubeError(\n\u001b[0;32m    347\u001b[0m         (\n\u001b[0;32m    348\u001b[0m             \u001b[38;5;124mf\u001b[39m\u001b[38;5;124m'\u001b[39m\u001b[38;5;124mException while accessing title of \u001b[39m\u001b[38;5;132;01m{\u001b[39;00m\u001b[38;5;28mself\u001b[39m\u001b[38;5;241m.\u001b[39mwatch_url\u001b[38;5;132;01m}\u001b[39;00m\u001b[38;5;124m. \u001b[39m\u001b[38;5;124m'\u001b[39m\n\u001b[0;32m    349\u001b[0m             \u001b[38;5;124m'\u001b[39m\u001b[38;5;124mPlease file a bug report at https://github.com/pytube/pytube\u001b[39m\u001b[38;5;124m'\u001b[39m\n\u001b[0;32m    350\u001b[0m         )\n\u001b[0;32m    351\u001b[0m     )\n\u001b[0;32m    353\u001b[0m \u001b[38;5;28;01mreturn\u001b[39;00m \u001b[38;5;28mself\u001b[39m\u001b[38;5;241m.\u001b[39m_title\n",
      "\u001b[1;31mPytubeError\u001b[0m: Exception while accessing title of https://youtube.com/watch?v=TEl7lZFKBSA. Please file a bug report at https://github.com/pytube/pytube"
     ]
    }
   ],
   "source": [
    "#To print title\n",
    "print(\"Title:\", yt.title)\n",
    "# #to print Views\n",
    "print(\"Views: \", yt.views)\n",
    "# # #To get legnth of video\n",
    "print(\"Duration: \", yt.length)\n",
    "# # #To get description\n",
    "print(\"Description: \", yt.description)\n",
    "# # #To get ratings\n",
    "print(\"Ratings: \", yt.rating)\n",
    "\n",
    "#to  Download the vodeo from internet\n",
    "\n",
    "from yt_dlp import YotubeDL\n",
    "Download_option= input(\"Do you want to Download this video?(yes/no):\").lower()\n",
    "if Download_option=='yes'\n",
    "    url=\"https://www.youtube.com/watch?v=TEl7lZFKBSA&t=52s'\n",
    "    ydl_opts={'format':'best'}\n",
    "    with YoutubeDL(ydl_opts)as ydl:\n",
    "        print('Downloading......')\n",
    "        ydl.download([url])\n",
    "        print(\"Downlaoding completed\")\n",
    "else:\n",
    "    print(\"Download aborted\")\n",
    "    "
   ]
  },
  {
   "cell_type": "code",
   "execution_count": null,
   "id": "482a4494-266d-4a1f-a771-f666ffb93bde",
   "metadata": {},
   "outputs": [],
   "source": []
  }
 ],
 "metadata": {
  "kernelspec": {
   "display_name": "Python [conda env:base] *",
   "language": "python",
   "name": "conda-base-py"
  },
  "language_info": {
   "codemirror_mode": {
    "name": "ipython",
    "version": 3
   },
   "file_extension": ".py",
   "mimetype": "text/x-python",
   "name": "python",
   "nbconvert_exporter": "python",
   "pygments_lexer": "ipython3",
   "version": "3.12.7"
  }
 },
 "nbformat": 4,
 "nbformat_minor": 5
}
